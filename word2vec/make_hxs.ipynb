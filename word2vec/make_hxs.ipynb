{
 "cells": [
  {
   "cell_type": "code",
   "execution_count": null,
   "metadata": {},
   "outputs": [],
   "source": [
    "from gensim.models import Word2Vec ,
    "emb = Word2Vec.load(\"/home/mse/MI/train_any2vec/models/2021sg-200--30-8-15-0.01-N\")\n",
    "emb.wv.save_word2vec_format('w2v_2021.txt',binary=False)\n"
   ]
  },
  {
   "cell_type": "code",
   "execution_count": null,
   "metadata": {},
   "outputs": [],
   "source": [
    "from pymatgen.core.composition import Composition\n",
    "ELEMENTS = [\"H\", \"He\", \"Li\", \"Be\", \"B\", \"C\", \"N\", \"O\", \"F\", \"Ne\", \"Na\", \"Mg\", \"Al\", \"Si\", \"P\", \"S\", \"Cl\", \"Ar\", \"K\",\n",
    "            \"Ca\", \"Sc\", \"Ti\", \"V\", \"Cr\", \"Mn\", \"Fe\", \"Co\", \"Ni\", \"Cu\", \"Zn\", \"Ga\", \"Ge\", \"As\", \"Se\", \"Br\", \"Kr\",\n",
    "            \"Rb\", \"Sr\", \"Y\", \"Zr\", \"Nb\", \"Mo\", \"Tc\", \"Ru\", \"Rh\", \"Pd\", \"Ag\", \"Cd\", \"In\", \"Sn\", \"Sb\", \"Te\", \"I\",\n",
    "            \"Xe\", \"Cs\", \"Ba\", \"La\", \"Ce\", \"Pr\", \"Nd\", \"Pm\", \"Sm\", \"Eu\", \"Gd\", \"Tb\", \"Dy\", \"Ho\", \"Er\", \"Tm\", \"Yb\",\n",
    "            \"Lu\", \"Hf\", \"Ta\", \"W\", \"Re\", \"Os\", \"Ir\", \"Pt\", \"Au\", \"Hg\", \"Tl\", \"Pb\", \"Bi\", \"Po\", \"At\", \"Rn\", \"Fr\",\n",
    "            \"Ra\", \"Ac\", \"Th\", \"Pa\", \"U\", \"Np\", \"Pu\", \"Am\", \"Cm\", \"Bk\", \"Cf\", \"Es\", \"Fm\", \"Md\", \"No\", \"Lr\", \"Rf\",\n",
    "            \"Db\", \"Sg\", \"Bh\", \"Hs\", \"Mt\", \"Ds\", \"Rg\", \"Cn\", \"Nh\", \"Fl\", \"Mc\", \"Lv\", \"Ts\", \"Og\"]\n",
    "import re\n",
    "import numpy as np\n",
    "import pandas as pd\n",
    "hxs=[]\n",
    "emb=[]\n",
    "embeddings = []\n",
    "words = []\n",
    "word2id = {}\n",
    "idx = 0\n",
    "def norm_formula(formula):\n",
    "    return Composition(Composition(formula).reduced_formula).formula.replace(\" \",\"\")\n",
    "for l in open(\"./w2v_2021.txt\", encoding=\"utf-8\"):\n",
    "    _ = l.strip('\\n').split(' ')\n",
    "    if  len(_) > 2:\n",
    "        if len(_[0])>3:\n",
    "          try:\n",
    "             fm=norm_formula(_[0])\n",
    "             i=0\n",
    "             if str(fm[i]+fm[i+1]) in ELEMENTS:\n",
    "                 if fm[i+2].isdigit():\n",
    "                   hxs.append(fm)\n",
    "                   emb.append(_[1:])\n",
    "             elif fm[i] in ELEMENTS:\n",
    "                 if fm[i+1].isdigit():\n",
    "                   hxs.append(fm)\n",
    "                   emb.append(_[1:])\n",
    "          except:\n",
    "                continue\n",
    "\n"
   ]
  },
  {
   "cell_type": "code",
   "execution_count": null,
   "metadata": {},
   "outputs": [],
   "source": [
    "#print(hxs[:10])     \n",
    "dd = pd.DataFrame(index=hxs)\n",
    "dd.to_csv(\"./hxs_2021.csv\") \n",
    "df = pd.DataFrame(columns=emb)\n",
    "df.to_csv(\"./emb_2021.csv\")"
   ]
  },
  {
   "cell_type": "code",
   "execution_count": null,
   "metadata": {},
   "outputs": [],
   "source": [
    "abc=pd.concat([dd,df],axis=1)\n",
    "abc.to_csv(\"./2021.csv\")"
   ]
  },
  {
   "cell_type": "code",
   "execution_count": null,
   "metadata": {},
   "outputs": [],
   "source": [
    "xiangliang=[]\n",
    "import csv\n",
    "def csv_process(filepath):\n",
    "    with open(filepath,mode='r',encoding='utf-8',newline='') as f:\n",
    "        reader = csv.reader(f)\n",
    "        for row in reader:\n",
    "          #print(row)\n",
    "             xiangliang.append(row)\n",
    "csv_process(\"./2011.csv\")\n",
    "f=open(\"./2011.txt\",\"w\")\n",
    "for i in xiangliang:\n",
    "    t=\" \".join(i)\n",
    "    f.write(t+\"\\n\")\n"
   ]
  }
 ],
 "metadata": {
  "kernelspec": {
   "display_name": "Python 3.7.4 ('nlp')",
   "language": "python",
   "name": "python3"
  },
  "language_info": {
   "name": "python",
   "version": "3.7.4"
  },
  "orig_nbformat": 4,
  "vscode": {
   "interpreter": {
    "hash": "f1795fb755d2648db90b0e2051fd0fa80dbe0ba71525f3f8060e7c24bfea63dd"
   }
  }
 },
 "nbformat": 4,
 "nbformat_minor": 2
}
